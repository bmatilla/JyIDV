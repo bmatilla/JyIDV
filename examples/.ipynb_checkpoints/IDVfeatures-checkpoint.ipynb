{
 "cells": [
  {
   "cell_type": "markdown",
   "metadata": {},
   "source": [
    "# IDV notebook generic features\n",
    "#   "
   ]
  },
  {
   "cell_type": "markdown",
   "metadata": {},
   "source": [
    "### Easy python coding with IDV notebook \n",
    "> #### 1. Supports auto Intent and colors for your python code\n",
    "> #### 2. Auto code completion, on TAB key it competes the code, functions and classes have a trailing `(` , giving a hint that they are callable\n",
    "> #### 3. Easy help, on SHIFT + TAB key it shows best possible help available for that function, when using java functions it potnts to user from which package it is derived from  "
   ]
  },
  {
   "cell_type": "markdown",
   "metadata": {},
   "source": [
    "### Taking notes in IDV notebook\n",
    "\n",
    "> #### 1. Use [markdown](https://help.github.com/articles/markdown-basics) for taking notes. Change the type of code cell to markdown to use markdown features.\n",
    "> #### 2. Any latex equations can be inserted in markdown by using prefix and suffix `$$`. For example `$$ \\frac{sin(x)}{cos(x)} $$` \n",
    "> #### 3. A external image can be imported by prefix `%Image path/to/image`\n",
    "> #### 4. A external Youtube video can be inserted by usinf `%YouTube web/link/to/youtube`"
   ]
  },
  {
   "cell_type": "markdown",
   "metadata": {},
   "source": [
    "### Write efficient codes\n",
    "\n",
    "> #### 1. Use `%timeit` before any jython code to know cpu time taken to execute it.\n",
    "> #### 2. Use `%memit` before any jython code to know memory used while executing the code.  "
   ]
  },
  {
   "cell_type": "markdown",
   "metadata": {},
   "source": [
    "### Using other languages\n",
    "\n",
    "> #### 1. Use `%bash` prefix to write any bash code , that will be executed in a bash shell. \n",
    "> #### 2. Use `%python` prefix to write any python code, that will be executed in a python shell. Furthermore you can send a variable from IDV to python for plotting or analysis in python(coming soon).\n",
    "> #### 3. Use `!` prefix to execute a shell command. For example !ls, !cdo etc."
   ]
  },
  {
   "cell_type": "code",
   "execution_count": null,
   "metadata": {
    "collapsed": true
   },
   "outputs": [],
   "source": []
  }
 ],
 "metadata": {
  "kernelspec": {
   "display_name": "IDV",
   "language": "python",
   "name": "jyidv_kernel"
  },
  "language_info": {
   "codemirror_mode": {
    "name": "text/x-python",
    "version": 2
   },
   "file_extension": ".py",
   "help_links": [
    {
     "text": "Jython",
     "url": "www.jython.org"
    },
    {
     "text": "Jython Kernel Help",
     "url": "https://github.com/suvarchal/IJython"
    }
   ],
   "mimetype": "text/x-python",
   "name": "jython",
   "pygments_lexer": "python"
  }
 },
 "nbformat": 4,
 "nbformat_minor": 0
}
