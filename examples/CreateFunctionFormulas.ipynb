{
 "cells": [
  {
   "cell_type": "markdown",
   "metadata": {},
   "source": [
    "#  Write a Jython function for IDV and export as IDV Formula in GUI"
   ]
  },
  {
   "cell_type": "markdown",
   "metadata": {},
   "source": [
    "###      \n",
    "### Define a function  to calculate Moist Static Energy from Temperature, Specific Humidity and Geopotential Height."
   ]
  },
  {
   "cell_type": "code",
   "execution_count": 1,
   "metadata": {
    "collapsed": false
   },
   "outputs": [
    {
     "name": "stdout",
     "output_type": "stream",
     "text": [
      "\n"
     ]
    }
   ],
   "source": [
    "def moistStaticEnergy(T,Q,GZ):\n",
    "    \"\"\" Calculates Moist Static Energy with Temperature, Specific Humidity and Geopotential Height. \"\"\"\n",
    "    from ucar.visad.quantities import SpecificHeatCapacityOfDryAirAtConstantPressure,LatentHeatOfEvaporation\n",
    "    cp=SpecificHeatCapacityOfDryAirAtConstantPressure.newReal()\n",
    "    L=LatentHeatOfEvaporation.newReal()\n",
    "    return cp*T+L*Q+Z"
   ]
  },
  {
   "cell_type": "markdown",
   "metadata": {},
   "source": [
    "### Above function was created for use in this session, it will not be available for IDV in next session so let us save it to the IDV Jython library."
   ]
  },
  {
   "cell_type": "code",
   "execution_count": 2,
   "metadata": {
    "collapsed": false
   },
   "outputs": [
    {
     "name": "stdout",
     "output_type": "stream",
     "text": [
      "\n"
     ]
    }
   ],
   "source": [
    "saveJython(moistStaticEnergy)"
   ]
  },
  {
   "cell_type": "markdown",
   "metadata": {},
   "source": [
    "### Create a IDV formula, once created it will be in the list of formulas in IDV. The arguments to saveFormula are  (formulaid,description,functionastring,formula categories). formula categories can be a list of categories or just a single category specified by a string. "
   ]
  },
  {
   "cell_type": "code",
   "execution_count": 3,
   "metadata": {
    "collapsed": false
   },
   "outputs": [
    {
     "name": "stdout",
     "output_type": "stream",
     "text": [
      "\n"
     ]
    }
   ],
   "source": [
    "saveFormula(\"Moist Static Energy\",\"Moist Static Energy from T, Q, GZ\",\"moistStaticEnergy(T,Q,GZ)\",[\"Grids\",\"Grids-MapesCollection\"])"
   ]
  },
  {
   "cell_type": "markdown",
   "metadata": {},
   "source": [
    "### Check if the formula was created in IDV GUI . At anytime to show a IDV window from notebook use function `showIdv()`. Currently some displays cannot be made when using GUI from notebook, will be implemented in future. "
   ]
  },
  {
   "cell_type": "code",
   "execution_count": 4,
   "metadata": {
    "collapsed": false
   },
   "outputs": [
    {
     "name": "stdout",
     "output_type": "stream",
     "text": [
      "3D [dev] 1.6.0-pre9-daily-experimental daily\n",
      "\n",
      "libEGL warning: failed to create a pipe screen for i965\n"
     ]
    }
   ],
   "source": [
    "showIdv()"
   ]
  }
 ],
 "metadata": {
  "kernelspec": {
   "display_name": "IDV",
   "language": "python",
   "name": "jyidv_kernel"
  },
  "language_info": {
   "codemirror_mode": {
    "name": "text/x-python",
    "version": 2
   },
   "file_extension": ".py",
   "help_links": [
    {
     "text": "Jython",
     "url": "www.jython.org"
    },
    {
     "text": "Jython Kernel Help",
     "url": "https://github.com/suvarchal/IJython"
    }
   ],
   "mimetype": "text/x-python",
   "name": "jython",
   "pygments_lexer": "python"
  }
 },
 "nbformat": 4,
 "nbformat_minor": 0
}
