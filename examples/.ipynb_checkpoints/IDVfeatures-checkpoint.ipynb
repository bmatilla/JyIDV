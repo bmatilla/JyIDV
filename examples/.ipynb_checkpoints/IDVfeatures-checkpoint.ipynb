{
 "cells": [
  {
   "cell_type": "markdown",
   "metadata": {},
   "source": [
    "# IDV notebook generic features"
   ]
  },
  {
   "cell_type": "markdown",
   "metadata": {},
   "source": [
    "### Taking notes on an IDV data exploration\n",
    "> #### 1. Insert a cell and change its type to Markdown to start authoring your Notebook.\n",
    "> #### 2. Clarify with headings, like `# Head1 and ## Head2`.  [(More on markdown tags)](https://help.github.com/articles/markdown-basics).  Shift+enter to see it rendered.\n",
    "> #### 3. showIdv() will launch an IDV instance. Interact with the GUI directly, as usual. \n",
    "> #### 4. `getImage()` in a code cell will screen capture the IDV view window. \n",
    "> #### 5. Latex equations can be included. For example `$\\frac{sin(x)}{cos(x)}$` shows as $ \\frac{sin(x)}{cos(x)} $.\n",
    "> #### 6. A external image can be imported by prefix `%Image path/to/image`\n",
    "> #### 7. A external Youtube video can be inserted by using `%YouTube web/link/to/youtube`\n",
    "> #### 8. Export as .html to a Web server, or .ipynb can be browser-rendered directly on github. "
   ]
  },
  {
   "cell_type": "markdown",
   "metadata": {},
   "source": [
    "### Coding in IDV notebook \n",
    "> #### 1. Supports auto Intent and colors for your python code.\n",
    "> #### 2. Auto code completion with the TAB key. Functions and classes have a trailing `(` , indicating that they are callable.\n",
    "> #### 3. If you don't know what argument the function `(` needs,  SHIFT + TAB key shows help available for that function. When these is a Java function, the package it is derived from is indicated. "
   ]
  },
  {
   "cell_type": "markdown",
   "metadata": {},
   "source": [
    "### Testing code efficiency\n",
    "\n",
    "> #### 1. Use `%timeit` before any jython code to know the cpu time taken to execute it.\n",
    "> #### 2. Use `%memit` before any jython code to know memory used while executing the code.  "
   ]
  },
  {
   "cell_type": "markdown",
   "metadata": {},
   "source": [
    "### Using other languages\n",
    "\n",
    "> #### 1. Use `!` prefix to execute a shell command. For example !ls, !cdo etc.\n",
    "> #### 2. Use `%bash` prefix to write any command or code you want executed in a bash shell. \n",
    "> #### 3. Use `%python` prefix to write any code to be executed in a python shell. Furthermore you can send a variable extracted from from the IDV to python for plotting or analysis (coming soon).\n"
   ]
  },
  {
   "cell_type": "code",
   "execution_count": 2,
   "metadata": {
    "collapsed": false
   },
   "outputs": [],
   "source": []
  },
  {
   "cell_type": "code",
   "execution_count": null,
   "metadata": {
    "collapsed": true
   },
   "outputs": [],
   "source": []
  }
 ],
 "metadata": {
  "kernelspec": {
   "display_name": "Python 2",
   "language": "python",
   "name": "python2"
  },
  "language_info": {
   "codemirror_mode": {
    "name": "ipython",
    "version": 2
   },
   "file_extension": ".py",
   "mimetype": "text/x-python",
   "name": "python",
   "nbconvert_exporter": "python",
   "pygments_lexer": "ipython2",
   "version": "2.7.10"
  }
 },
 "nbformat": 4,
 "nbformat_minor": 0
}
