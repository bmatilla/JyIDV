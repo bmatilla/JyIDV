{
 "cells": [
  {
   "cell_type": "code",
   "execution_count": null,
   "metadata": {
    "collapsed": false
   },
   "outputs": [],
   "source": [
    "x=[]\n",
    "from math import sin "
   ]
  },
  {
   "cell_type": "code",
   "execution_count": null,
   "metadata": {
    "collapsed": false
   },
   "outputs": [],
   "source": [
    "for i in range(16):\n",
    "    x.append(sin(2*3.414*i))"
   ]
  },
  {
   "cell_type": "code",
   "execution_count": null,
   "metadata": {
    "collapsed": false
   },
   "outputs": [],
   "source": [
    "print field(x)"
   ]
  },
  {
   "cell_type": "code",
   "execution_count": null,
   "metadata": {
    "collapsed": false
   },
   "outputs": [],
   "source": [
    "ftx=fft(field(x))"
   ]
  },
  {
   "cell_type": "code",
   "execution_count": null,
   "metadata": {
    "collapsed": false
   },
   "outputs": [],
   "source": [
    "print ftx"
   ]
  },
  {
   "cell_type": "markdown",
   "metadata": {},
   "source": [
    "#### Till here matches with python numpy calculation \n",
    "[ 2.82478962+0.j          6.31709005-1.81185633j -3.40388355+1.55183369j\n",
    " -1.29011038+0.63553672j -0.85828316+0.38008808j -0.69344394+0.24260023j\n",
    " -0.61694776+0.14712145j -0.58138305+0.06992016j -0.57086604+0.j\n",
    " -0.58138305-0.06992016j -0.61694776-0.14712145j -0.69344394-0.24260023j\n",
    " -0.85828316-0.38008808j -1.29011038-0.63553672j -3.40388355-1.55183369j\n",
    "  6.31709005+1.81185633j]\n"
   ]
  },
  {
   "cell_type": "code",
   "execution_count": null,
   "metadata": {
    "collapsed": false
   },
   "outputs": [],
   "source": [
    "reals=extract(ftx,0)\n",
    "imag=extract(ftx,1)"
   ]
  },
  {
   "cell_type": "code",
   "execution_count": null,
   "metadata": {
    "collapsed": false
   },
   "outputs": [],
   "source": [
    "print reals, imag"
   ]
  },
  {
   "cell_type": "code",
   "execution_count": null,
   "metadata": {
    "collapsed": false
   },
   "outputs": [],
   "source": [
    "power=pow(reals,2)+pow(imag,2)"
   ]
  },
  {
   "cell_type": "code",
   "execution_count": null,
   "metadata": {
    "collapsed": false
   },
   "outputs": [],
   "source": [
    "print power"
   ]
  },
  {
   "cell_type": "code",
   "execution_count": null,
   "metadata": {
    "collapsed": false
   },
   "outputs": [],
   "source": [
    "iftx=ifft(ftx)"
   ]
  },
  {
   "cell_type": "code",
   "execution_count": null,
   "metadata": {
    "collapsed": false
   },
   "outputs": [],
   "source": [
    "print iftx"
   ]
  },
  {
   "cell_type": "markdown",
   "metadata": {},
   "source": [
    "#### values from python numpy: it looks like numpy is more accurate???\n",
    "\n",
    "[ -5.55111512e-17 +2.77555756e-17j   5.18259620e-01 -5.55111512e-17j\n",
    "   8.86455450e-01 -3.41803576e-17j   9.97975166e-01 -2.08166817e-17j\n",
    "   8.20527864e-01 +0.00000000e+00j   4.05494000e-01 -5.55111512e-17j\n",
    "  -1.26951996e-01 +3.41803576e-17j  -6.22638621e-01 -3.46944695e-17j\n",
    "  -9.38038169e-01 +2.77555756e-17j  -9.81825656e-01 +5.55111512e-17j\n",
    "  -7.41322270e-01 -3.41803576e-17j  -2.86166564e-01 -2.08166817e-17j\n",
    "   2.51849620e-01 -5.55111512e-17j   7.16941911e-01 +5.55111512e-17j\n",
    "   9.74441296e-01 +3.41803576e-17j   9.49787973e-01 +7.63278329e-17j]"
   ]
  }
 ],
 "metadata": {
  "kernelspec": {
   "display_name": "IDV",
   "language": "python",
   "name": "jyidv_kernel"
  },
  "language_info": {
   "codemirror_mode": {
    "name": "text/x-python",
    "version": 2
   },
   "file_extension": ".py",
   "help_links": [
    {
     "text": "Jython",
     "url": "www.jython.org"
    },
    {
     "text": "Jython Kernel Help",
     "url": "https://github.com/suvarchal/IJython"
    }
   ],
   "mimetype": "text/x-python",
   "name": "jython",
   "pygments_lexer": "python"
  }
 },
 "nbformat": 4,
 "nbformat_minor": 0
}
