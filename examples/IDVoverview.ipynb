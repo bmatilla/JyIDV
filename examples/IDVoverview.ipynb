{
 "cells": [
  {
   "cell_type": "markdown",
   "metadata": {},
   "source": [
    "\n",
    "\n",
    "# What is IDV notebook? #\n",
    "                                                                           \n",
    "### *IDV notebook provides an enhanced IDV interactive shell experience and a powerful notebook.* ###\n",
    "\n",
    "\n",
    "\n",
    "# Downloading and Installing #\n",
    ">* Download the IDV notebook zip file from [Github](https://github.com/suvarchal/JyIDV/archive/master.zip)\n",
    ">* Make sure you have IDV version 5.2 or above and set the path of IDV_HOME to your IDV root directory (ex:/home/me/IDV_5.2)\n",
    ">* Make sure you have python installed, if not we recommend [miniconda](http://conda.pydata.org/miniconda.html).\n",
    ">* Unzip the file and from inside the directory and type `python setup.py install` \n",
    "\n",
    "# Features and Resources #\n",
    "#### Check out the generic features of IDV notebook in this example notebook.\n",
    "\n",
    "#### Write and deploy IDV functions and formulas with ease. \n",
    "\n",
    "#### Take notes while working in IDV.\n",
    "\n",
    "#### Working with IDV images\n",
    "\n",
    "### More with IDV notebook.\n",
    "\n",
    "#### Create VisAD grids for IDV\n",
    "\n",
    "#### Create new plot types \n"
   ]
  },
  {
   "cell_type": "code",
   "execution_count": 1,
   "metadata": {
    "collapsed": false
   },
   "outputs": [
    {
     "name": "stdout",
     "output_type": "stream",
     "text": [
      "3D [dev] 1.6.0-pre9-daily-experimental daily\n",
      "\n",
      "libEGL warning: failed to create a pipe screen for i965\n"
     ]
    }
   ],
   "source": [
    "showIdv()"
   ]
  },
  {
   "cell_type": "code",
   "execution_count": 2,
   "metadata": {
    "collapsed": false
   },
   "outputs": [
    {
     "name": "stdout",
     "output_type": "stream",
     "text": [
      "Traceback (most recent call last):\n",
      "  File \"<stdin>\", line 1, in <module>\n",
      "  File \"<string>\", line 1, in <module>\n",
      "AttributeError: 'instancemethod' object has no attribute 'getUserPath'\n"
     ]
    }
   ],
   "source": [
    "idv.getResourceManager.getUserPath()"
   ]
  },
  {
   "cell_type": "code",
   "execution_count": 3,
   "metadata": {
    "collapsed": false
   },
   "outputs": [
    {
     "name": "stdout",
     "output_type": "stream",
     "text": [
      "u'/home/suvarchal/.unidata/idv/DefaultIdv'\n"
     ]
    }
   ],
   "source": [
    "idv.getResourceManager().getUserPath()"
   ]
  },
  {
   "cell_type": "code",
   "execution_count": 11,
   "metadata": {
    "collapsed": false
   },
   "outputs": [
    {
     "name": "stdout",
     "output_type": "stream",
     "text": [
      "'/home/suvarchal/.unidata/idv/DefaultIdv/default.xidv'\n"
     ]
    }
   ],
   "source": [
    "str(idv.getResourceManager().getUserPath())+\"/default.xidv\"\n",
    "\n"
   ]
  },
  {
   "cell_type": "code",
   "execution_count": 6,
   "metadata": {
    "collapsed": false
   },
   "outputs": [
    {
     "name": "stdout",
     "output_type": "stream",
     "text": [
      "'/home/suvarchal/.unidata/idv/DefaultIdv/default.xidv'\n"
     ]
    }
   ],
   "source": [
    "str(idv.getResourceManager().getUserPath())+\"/default.xidv\""
   ]
  },
  {
   "cell_type": "code",
   "execution_count": 2,
   "metadata": {
    "collapsed": false
   },
   "outputs": [
    {
     "name": "stdout",
     "output_type": "stream",
     "text": [
      "<bundle  file=\"/home/suvarchal/.unidata/idv/DefaultIdv/default.xidv\" ></bundle>\n"
     ]
    }
   ],
   "source": [
    "loadBundle(str(idv.getResourceManager().getUserPath())+\"/default.xidv\")"
   ]
  },
  {
   "cell_type": "code",
   "execution_count": 13,
   "metadata": {
    "collapsed": false
   },
   "outputs": [
    {
     "name": "stdout",
     "output_type": "stream",
     "text": [
      "<bundle  file=\"/home/suvarchal/.unidata/idv/DefaultIdv/default.xidv\" ></bundle>\n"
     ]
    }
   ],
   "source": [
    "loadBundle(str(idv.getResourceManager().getUserPath())+\"/default.xidv\")"
   ]
  },
  {
   "cell_type": "code",
   "execution_count": null,
   "metadata": {
    "collapsed": true
   },
   "outputs": [],
   "source": [
    "loadBundle(\"/home/suvarchal/US_FL.xidv\")"
   ]
  },
  {
   "cell_type": "code",
   "execution_count": 3,
   "metadata": {
    "collapsed": false
   },
   "outputs": [
    {
     "name": "stdout",
     "output_type": "stream",
     "text": [
      "\n"
     ]
    }
   ],
   "source": [
    "selectData()"
   ]
  },
  {
   "cell_type": "code",
   "execution_count": 4,
   "metadata": {
    "collapsed": false
   },
   "outputs": [
    {
     "name": "stdout",
     "output_type": "stream",
     "text": [
      "\n"
     ]
    }
   ],
   "source": [
    "selectDataChoice()"
   ]
  },
  {
   "cell_type": "code",
   "execution_count": 7,
   "metadata": {
    "collapsed": false
   },
   "outputs": [
    {
     "name": "stdout",
     "output_type": "stream",
     "text": [
      "bounds:null, has TimeDriver times: false\n"
     ]
    }
   ],
   "source": [
    "DataSelection()"
   ]
  },
  {
   "cell_type": "code",
   "execution_count": 6,
   "metadata": {
    "collapsed": false
   },
   "outputs": [
    {
     "name": "stdout",
     "output_type": "stream",
     "text": [
      "ucar.unidata.data.DataManager@25974207\n"
     ]
    }
   ],
   "source": [
    "idv.getDataManager()"
   ]
  },
  {
   "cell_type": "code",
   "execution_count": 10,
   "metadata": {
    "collapsed": false
   },
   "outputs": [
    {
     "name": "stdout",
     "output_type": "stream",
     "text": [
      "\n"
     ]
    }
   ],
   "source": [
    "selectDataChoice()"
   ]
  },
  {
   "cell_type": "code",
   "execution_count": 11,
   "metadata": {
    "collapsed": false
   },
   "outputs": [
    {
     "name": "stdout",
     "output_type": "stream",
     "text": [
      "\n"
     ]
    }
   ],
   "source": [
    "selectData(True)"
   ]
  },
  {
   "cell_type": "code",
   "execution_count": null,
   "metadata": {
    "collapsed": true
   },
   "outputs": [],
   "source": []
  }
 ],
 "metadata": {
  "kernelspec": {
   "display_name": "IDV",
   "language": "python",
   "name": "jyidv_kernel"
  },
  "language_info": {
   "codemirror_mode": {
    "name": "text/x-python",
    "version": 2
   },
   "file_extension": ".py",
   "help_links": [
    {
     "text": "Jython",
     "url": "www.jython.org"
    },
    {
     "text": "Jython Kernel Help",
     "url": "https://github.com/suvarchal/IJython"
    }
   ],
   "mimetype": "text/x-python",
   "name": "jython",
   "pygments_lexer": "python"
  }
 },
 "nbformat": 4,
 "nbformat_minor": 0
}
