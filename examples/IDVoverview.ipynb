{
 "cells": [
  {
   "cell_type": "markdown",
   "metadata": {},
   "source": [
    "\n",
    "\n",
    "# What is IDV notebook? #\n",
    "                                                                           \n",
    "### *IDV notebook provides an enhanced IDV interactive shell experience and a powerful notebook.* ###\n",
    "\n",
    "\n",
    "\n",
    "# Downloading and Installing #\n",
    ">* Download the IDV notebook zip file from [Github](https://github.com/suvarchal/JyIDV/archive/master.zip)\n",
    ">* Make sure you have IDV version 5.2 or above and set the path of IDV_HOME to your IDV root directory (ex:/home/me/IDV_5.2)\n",
    ">* Make sure you have python installed, if not we recommend [miniconda](http://conda.pydata.org/miniconda.html).\n",
    ">* Unzip the file and from inside the directory and type `python setup.py install` \n",
    "\n",
    "# Features and Resources #\n",
    "#### 1. Check out the generic features of IDV notebook [here](https://github.com/suvarchal/JyIDV/blob/master/examples/IDVfeatures.ipynb).\n",
    "\n",
    "#### 2. Write and deploy IDV functions and formulas with ease.[Example](https://github.com/suvarchal/JyIDV/blob/master/examples/CreateFunctionFormulas.ipynb)\n",
    "\n",
    "#### 3. Take notes while working in IDV. [Example](https://github.com/suvarchal/JyIDV/blob/master/examples/IDVnotes.ipynb)\n",
    "\n",
    "#### Working with IDV images.\n",
    "> ##### Do image transformations, annotations, save quality graphics. -----Coming Soon------- \n",
    "\n",
    "### More with IDV notebook.\n",
    "\n",
    "#### Create VisAD grids for IDV. -----Coming Soon------\n",
    "\n",
    "#### Create new plot types . -----Coming Soon------\n"
   ]
  }
 ],
 "metadata": {
  "kernelspec": {
   "display_name": "IDV",
   "language": "python",
   "name": "jyidv_kernel"
  },
  "language_info": {
   "codemirror_mode": {
    "name": "text/x-python",
    "version": 2
   },
   "file_extension": ".py",
   "help_links": [
    {
     "text": "Jython",
     "url": "www.jython.org"
    },
    {
     "text": "Jython Kernel Help",
     "url": "https://github.com/suvarchal/IJython"
    }
   ],
   "mimetype": "text/x-python",
   "name": "jython",
   "pygments_lexer": "python"
  }
 },
 "nbformat": 4,
 "nbformat_minor": 0
}
