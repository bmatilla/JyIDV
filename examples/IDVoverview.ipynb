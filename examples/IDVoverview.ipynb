{
 "cells": [
  {
   "cell_type": "markdown",
   "metadata": {},
   "source": [
    "\n",
    "# Features and Resources #\n",
    "#### 1. Check out the generic features of IDV notebook [here](https://github.com/suvarchal/JyIDV/blob/master/examples/IDVfeatures.ipynb).\n",
    "\n",
    "#### 2. Write and deploy IDV functions and formulas with ease.[Example](https://github.com/suvarchal/JyIDV/blob/master/examples/CreateFunctionFormulas.ipynb)\n",
    "\n",
    "#### 3. Take notes while working in IDV. [Example](https://github.com/suvarchal/JyIDV/blob/master/examples/IDVnotes.ipynb)\n",
    "\n",
    "#### Working with IDV images.\n",
    "> ##### Do image transformations, annotations, save quality graphics. -----Coming Soon------- \n",
    "\n",
    "### More with IDV notebook.\n",
    "\n",
    "#### Create VisAD grids for IDV. [Example](https://github.com/suvarchal/JyIDV/blob/master/examples/createVisADGrids.ipynb)\n",
    "#### Testing unused functions.[FFT](https://github.com/suvarchal/JyIDV/blob/master/examples/testingFFT.ipynb)\n",
    "#### Create new plot types . -----Coming Soon------\n"
   ]
  }
 ],
 "metadata": {
  "kernelspec": {
   "display_name": "IDV",
   "language": "python",
   "name": "jyidv_kernel"
  },
  "language_info": {
   "codemirror_mode": {
    "name": "text/x-python",
    "version": 2
   },
   "file_extension": ".py",
   "help_links": [
    {
     "text": "Jython",
     "url": "www.jython.org"
    },
    {
     "text": "Jython Kernel Help",
     "url": "https://github.com/suvarchal/IJython"
    }
   ],
   "mimetype": "text/x-python",
   "name": "jython",
   "pygments_lexer": "python"
  }
 },
 "nbformat": 4,
 "nbformat_minor": 0
}
